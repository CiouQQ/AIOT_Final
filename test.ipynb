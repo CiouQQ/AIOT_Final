{
 "cells": [
  {
   "cell_type": "code",
   "execution_count": 2,
   "id": "0a2c241f",
   "metadata": {},
   "outputs": [
    {
     "name": "stdout",
     "output_type": "stream",
     "text": [
      "loading...\n",
      "start...\n"
     ]
    },
    {
     "ename": "KeyboardInterrupt",
     "evalue": "",
     "output_type": "error",
     "traceback": [
      "\u001b[1;31m---------------------------------------------------------------------------\u001b[0m",
      "\u001b[1;31mKeyboardInterrupt\u001b[0m                         Traceback (most recent call last)",
      "Cell \u001b[1;32mIn[2], line 12\u001b[0m\n\u001b[0;32m     10\u001b[0m     exit()\n\u001b[0;32m     11\u001b[0m \u001b[38;5;28;01mwhile\u001b[39;00m \u001b[38;5;28;01mTrue\u001b[39;00m:\n\u001b[1;32m---> 12\u001b[0m     ret, img \u001b[38;5;241m=\u001b[39m \u001b[43mcap\u001b[49m\u001b[38;5;241;43m.\u001b[39;49m\u001b[43mread\u001b[49m\u001b[43m(\u001b[49m\u001b[43m)\u001b[49m\n\u001b[0;32m     13\u001b[0m     \u001b[38;5;28;01mif\u001b[39;00m \u001b[38;5;129;01mnot\u001b[39;00m ret:\n\u001b[0;32m     14\u001b[0m         \u001b[38;5;28mprint\u001b[39m(\u001b[38;5;124m\"\u001b[39m\u001b[38;5;124mCannot receive frame\u001b[39m\u001b[38;5;124m\"\u001b[39m)\n",
      "\u001b[1;31mKeyboardInterrupt\u001b[0m: "
     ]
    }
   ],
   "source": [
    "import cv2\n",
    "import numpy as np\n",
    "\n",
    "cap = cv2.VideoCapture(0)                     # 啟用攝影鏡頭\n",
    "print('loading...')\n",
    "knn = cv2.ml.KNearest_load('mnist_knn.xml')   # 載入模型\n",
    "print('start...')\n",
    "if not cap.isOpened():\n",
    "    print(\"Cannot open camera\")\n",
    "    exit()\n",
    "while True:\n",
    "    ret, img = cap.read()\n",
    "    if not ret:\n",
    "        print(\"Cannot receive frame\")\n",
    "        break\n",
    "    img = cv2.resize(img,(540,300))          # 改變影像尺寸，加快處理效率\n",
    "    x, y, w, h = 400, 200, 60, 60            # 定義擷取數字的區域位置和大小\n",
    "    img_num = img.copy()                     # 複製一個影像作為辨識使用\n",
    "    img_num = img_num[y:y+h, x:x+w]          # 擷取辨識的區域\n",
    "\n",
    "    img_num = cv2.cvtColor(img_num, cv2.COLOR_BGR2GRAY)    # 顏色轉成灰階\n",
    "    # 針對白色文字，做二值化黑白轉換，轉成黑底白字\n",
    "    ret, img_num = cv2.threshold(img_num, 127, 255, cv2.THRESH_BINARY_INV)\n",
    "    output = cv2.cvtColor(img_num, cv2.COLOR_GRAY2BGR)     # 顏色轉成彩色\n",
    "    img[0:60, 480:540] = output                            # 將轉換後的影像顯示在畫面右上角\n",
    "\n",
    "    img_num = cv2.resize(img_num,(28,28))   # 縮小成 28x28，和訓練模型對照\n",
    "    img_num = img_num.astype(np.float32)    # 轉換格式\n",
    "    img_num = img_num.reshape(-1,)          # 打散成一維陣列資料，轉換成辨識使用的格式\n",
    "    img_num = img_num.reshape(1,-1)\n",
    "    img_num = img_num/255\n",
    "    img_pre = knn.predict(img_num)          # 進行辨識\n",
    "    num = str(int(img_pre[1][0][0]))        # 取得辨識結果\n",
    "\n",
    "    text = num                              # 印出的文字內容\n",
    "    org = (x,y-20)                          # 印出的文字位置\n",
    "    fontFace = cv2.FONT_HERSHEY_SIMPLEX     # 印出的文字字體\n",
    "    fontScale = 2                           # 印出的文字大小\n",
    "    color = (0,0,255)                       # 印出的文字顏色\n",
    "    thickness = 2                           # 印出的文字邊框粗細\n",
    "    lineType = cv2.LINE_AA                  # 印出的文字邊框樣式\n",
    "    cv2.putText(img, text, org, fontFace, fontScale, color, thickness, lineType) # 印出文字\n",
    "\n",
    "    cv2.rectangle(img,(x,y),(x+w,y+h),(0,0,255),3)  # 標記辨識的區域\n",
    "    cv2.imshow('oxxostudio', img)\n",
    "    if cv2.waitKey(50) == ord('q'):\n",
    "        break     # 按下 q 鍵停止\n",
    "cap.release()\n",
    "cv2.destroyAllWindows()"
   ]
  }
 ],
 "metadata": {
  "kernelspec": {
   "display_name": "Python 3 (ipykernel)",
   "language": "python",
   "name": "python3"
  },
  "language_info": {
   "codemirror_mode": {
    "name": "ipython",
    "version": 3
   },
   "file_extension": ".py",
   "mimetype": "text/x-python",
   "name": "python",
   "nbconvert_exporter": "python",
   "pygments_lexer": "ipython3",
   "version": "3.9.15"
  }
 },
 "nbformat": 4,
 "nbformat_minor": 5
}
